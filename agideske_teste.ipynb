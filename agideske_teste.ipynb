{
 "cells": [
  {
   "cell_type": "code",
   "execution_count": 24,
   "id": "fd5dfe4d",
   "metadata": {},
   "outputs": [],
   "source": [
    "import time\n",
    "from selenium import webdriver\n",
    "from selenium.webdriver.common.by import By\n",
    "from selenium.webdriver.chrome.options import Options\n",
    "\n",
    "chrome = Options()\n",
    "navegador = webdriver.Chrome(options=chrome)\n",
    "\n",
    "navegador.get(\"https://grendene.agidesk.com/br/configuracoes/ativos\")\n",
    "time.sleep(10)\n",
    "\n",
    "navegador.find_element(By.XPATH, '//*[@id=\"username\"]').send_keys(\"luiz.nobre@grendene.com.br\")\n",
    "time.sleep(1)\n",
    "navegador.find_element(By.XPATH, '//*[@id=\"password\"]').send_keys(\"R@drigues2003\")\n",
    "time.sleep(5)\n",
    "navegador.find_element(By.XPATH, '/html/body/div[5]/div[9]/div/div/form/div/div[3]/button').click()\n",
    "time.sleep(12)\n",
    "navegador.find_element(By.XPATH, '//*[@id=\"assets-erase-link\"]').click()\n",
    "time.sleep(3)\n",
    "navegador.find_element(By.XPATH, '/html/body/div[6]/div[6]/div/div[2]/div[2]/div[1]/div/form/div/div[3]/div/div/div[1]').click()\n",
    "time.sleep(3)\n",
    "navegador.find_element(By.XPATH, '/html/body/div[6]/div[6]/div/div[2]/div[2]/div[1]/div/form/div/div[3]/div/div/div[2]/div[11]').click()\n",
    "time.sleep(4)\n",
    "navegador.find_element(By.XPATH, '//*[@id=\"filter\"]').send_keys(\"384267\")\n",
    "time.sleep(3)\n",
    "navegador.find_element(By.XPATH, '/html/body/div[6]/div[6]/div/div[2]/div[2]/div[1]/div/form/div/div[3]/div/button').click()\n",
    "time.sleep(5)\n",
    "navegador.find_element(By.XPATH, '/html/body/div[6]/div[6]/div/div[2]/div[2]/div[2]/div[2]/div/div/div/div[3]/div[3]/table/tbody/tr/td[6]/a/h4/div').click()\n",
    "time.sleep(5)\n",
    "navegador.quit()\n",
    "\n"
   ]
  }
 ],
 "metadata": {
  "kernelspec": {
   "display_name": "Python 3",
   "language": "python",
   "name": "python3"
  },
  "language_info": {
   "codemirror_mode": {
    "name": "ipython",
    "version": 3
   },
   "file_extension": ".py",
   "mimetype": "text/x-python",
   "name": "python",
   "nbconvert_exporter": "python",
   "pygments_lexer": "ipython3",
   "version": "3.13.2"
  }
 },
 "nbformat": 4,
 "nbformat_minor": 5
}
